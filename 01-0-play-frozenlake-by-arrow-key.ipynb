{
  "nbformat": 4,
  "nbformat_minor": 5,
  "metadata": {
    "colab": {
      "name": "01-0-play-frozenlake-by-arrow-key.ipynb",
      "provenance": [],
      "include_colab_link": true
    },
    "language_info": {
      "name": "python"
    },
    "kernelspec": {
      "name": "python3",
      "display_name": "Python 3"
    },
    "accelerator": "TPU"
  },
  "cells": [
    {
      "cell_type": "markdown",
      "metadata": {
        "id": "view-in-github",
        "colab_type": "text"
      },
      "source": [
        "<a href=\"https://colab.research.google.com/github/dantae74/Reinforcement-Learning/blob/main/01-0-play-frozenlake-by-arrow-key.ipynb\" target=\"_parent\"><img src=\"https://colab.research.google.com/assets/colab-badge.svg\" alt=\"Open In Colab\"/></a>"
      ]
    },
    {
      "cell_type": "markdown",
      "metadata": {
        "id": "WfgQSbgOoe-2"
      },
      "source": [
        "모두를 위한 머신러닝에서 가져왔습니다.\n"
      ],
      "id": "WfgQSbgOoe-2"
    },
    {
      "cell_type": "code",
      "metadata": {
        "id": "RK3QTbWDofS7"
      },
      "source": [
        "import gym\n",
        "from gym.envs.registration import register"
      ],
      "id": "RK3QTbWDofS7",
      "execution_count": null,
      "outputs": []
    },
    {
      "cell_type": "code",
      "metadata": {
        "id": "30dxHmEPog-b"
      },
      "source": [
        "import readchar"
      ],
      "id": "30dxHmEPog-b",
      "execution_count": null,
      "outputs": []
    },
    {
      "cell_type": "code",
      "metadata": {
        "id": "-vVd893aG1TF"
      },
      "source": [
        "# MACROS\n",
        "LEFT = 0\n",
        "DOWN = 1\n",
        "RIGHT = 2\n",
        "UP = 3\n",
        "\n",
        "# Key mapping\n",
        "arrow_keys = {\n",
        "    '\\x1b[A': UP,\n",
        "    '\\x1b[B': DOWN,\n",
        "    '\\x1b[C': RIGHT,\n",
        "    '\\x1b[D': LEFT}"
      ],
      "id": "-vVd893aG1TF",
      "execution_count": null,
      "outputs": []
    },
    {
      "cell_type": "code",
      "metadata": {
        "id": "CjkslkcmHHaB"
      },
      "source": [
        "# Register FrozenLake with is_slippery False\n",
        "register(\n",
        "    id='FrozenLake-v3',\n",
        "    entry_point='gym.envs.toy_text:FrozenLakeEnv',\n",
        "    kwargs={'map_name': '4x4', 'is_slippery': False}\n",
        ")"
      ],
      "id": "CjkslkcmHHaB",
      "execution_count": null,
      "outputs": []
    },
    {
      "cell_type": "code",
      "metadata": {
        "id": "JpDDZwnqHKpv"
      },
      "source": [
        "env = gym.make('FrozenLake-v3')\n",
        "env.render()  # Show the initial board\n",
        "\n",
        "while True:\n",
        "    # Choose an action from keyboard\n",
        "    key = readchar.readkey()\n",
        "    if key not in arrow_keys.keys():\n",
        "        print(\"Game aborted!\")\n",
        "        break\n",
        "\n",
        "    action = arrow_keys[key]\n",
        "    state, reward, done, info = env.step(action)\n",
        "    env.render()  # Show the board after action\n",
        "    print(\"State: \", state, \"Action: \", action,\n",
        "          \"Reward: \", reward, \"Info: \", info)\n",
        "\n",
        "    if done:\n",
        "        print(\"Finished with reward\", reward)\n",
        "        break"
      ],
      "id": "JpDDZwnqHKpv",
      "execution_count": null,
      "outputs": []
    },
    {
      "cell_type": "code",
      "metadata": {
        "id": "PjKa6kjVHM9A"
      },
      "source": [
        "inputkey()"
      ],
      "id": "PjKa6kjVHM9A",
      "execution_count": null,
      "outputs": []
    },
    {
      "cell_type": "code",
      "metadata": {
        "id": "AS6DQzrKK9ci"
      },
      "source": [
        "while True:\n",
        "    keypress = readchar.readkey()\n",
        "    if keypress == readchar.key.UP:\n",
        "        print(\"UP\")\n",
        "    elif keypress == readchar.key.DOWN:\n",
        "        print(\"DOWN\")\n",
        "    elif keypress == readchar.key.LEFT:\n",
        "        print(\"LEFT\")\n",
        "    elif keypress == readchar.key.RIGHT:\n",
        "        print(\"RIGHT\")\n",
        "    elif keypress in (readchar.key.CR, readchar.key.CTRL_C):\n",
        "        break"
      ],
      "id": "AS6DQzrKK9ci",
      "execution_count": null,
      "outputs": []
    },
    {
      "cell_type": "code",
      "metadata": {
        "id": "5myRZPW_Okw_"
      },
      "source": [
        ""
      ],
      "id": "5myRZPW_Okw_",
      "execution_count": null,
      "outputs": []
    }
  ]
}
