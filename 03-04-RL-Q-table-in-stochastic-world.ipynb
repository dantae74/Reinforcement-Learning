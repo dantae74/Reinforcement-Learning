{
  "nbformat": 4,
  "nbformat_minor": 5,
  "metadata": {
    "colab": {
      "name": "Untitled.ipynb",
      "provenance": [],
      "include_colab_link": true
    },
    "language_info": {
      "name": "python"
    },
    "kernelspec": {
      "name": "python3",
      "display_name": "Python 3"
    }
  },
  "cells": [
    {
      "cell_type": "markdown",
      "metadata": {
        "id": "view-in-github",
        "colab_type": "text"
      },
      "source": [
        "<a href=\"https://colab.research.google.com/github/dantae74/Reinforcement-Learning/blob/main/03-04-RL-Q-table-in-stochastic-world.ipynb\" target=\"_parent\"><img src=\"https://colab.research.google.com/assets/colab-badge.svg\" alt=\"Open In Colab\"/></a>"
      ]
    },
    {
      "cell_type": "markdown",
      "metadata": {
        "id": "WfgQSbgOoe-2"
      },
      "source": [
        "모두를 위한 머신러닝에서 가져왔습니다.\n",
        "## RL - Frozen lake in stochestic(non-deterministic) world "
      ],
      "id": "WfgQSbgOoe-2"
    },
    {
      "cell_type": "code",
      "metadata": {
        "id": "RK3QTbWDofS7"
      },
      "source": [
        "import time\n",
        "import gym\n",
        "import numpy as np\n",
        "import matplotlib.pyplot as plt"
      ],
      "id": "RK3QTbWDofS7",
      "execution_count": 25,
      "outputs": []
    },
    {
      "cell_type": "code",
      "metadata": {
        "id": "30dxHmEPog-b"
      },
      "source": [
        "N_ACTIONS = 4\n",
        "N_STATES = 16\n",
        "\n",
        "LEARNING_RATE = .5\n",
        "DISCOUNT_RATE = .98\n",
        "\n",
        "N_EPISODES = 2000"
      ],
      "id": "30dxHmEPog-b",
      "execution_count": 13,
      "outputs": []
    },
    {
      "cell_type": "code",
      "metadata": {
        "id": "c8fGleUzb1iZ"
      },
      "source": [
        "def main():\n",
        "    \"\"\"Main\"\"\"\n",
        "    frozone_lake_env = gym.make(\"FrozenLake-v0\")\n",
        "\n",
        "    # Initialize table with all zeros\n",
        "    Q = np.zeros([N_STATES, N_ACTIONS])\n",
        "\n",
        "    # Set learning parameters\n",
        "\n",
        "    # create lists to contain total rewards and steps per episode\n",
        "    rewards = []\n",
        "\n",
        "    for i in range(N_EPISODES):\n",
        "        # Reset environment and get first new observation\n",
        "        state = frozone_lake_env.reset()\n",
        "        episode_reward = 0\n",
        "        done = False\n",
        "\n",
        "        # The Q-Table learning algorithm\n",
        "        while not done:\n",
        "            # Choose an action by greedily (with noise) picking from Q table\n",
        "            noise = np.random.randn(1, N_ACTIONS) / (i + 1)\n",
        "            action = np.argmax(Q[state, :] + noise)\n",
        "\n",
        "            # Get new state and reward from environment\n",
        "            new_state, reward, done, _ = frozone_lake_env.step(action)\n",
        "\n",
        "            reward = -1 if done and reward < 1 else reward\n",
        "\n",
        "            # Update Q-Table with new knowledge using learning rate\n",
        "            Q[state, action] = (1 - LEARNING_RATE) * Q[state, action] + LEARNING_RATE * (reward + DISCOUNT_RATE * np.max(Q[new_state, :]))\n",
        "\n",
        "            episode_reward += reward\n",
        "            state = new_state\n",
        "\n",
        "        rewards.append(episode_reward)\n",
        "\n",
        "\n",
        "\n",
        "    for i in range(10):\n",
        "        # Reset environment and get first new observation\n",
        "        state = frozone_lake_env.reset()\n",
        "        episode_reward = 0\n",
        "        done = False\n",
        "\n",
        "        # The Q-Table learning algorithm\n",
        "        while not done:\n",
        "            # Choose an action by greedily (with noise) picking from Q table\n",
        "            action = np.argmax(Q[state, :])\n",
        "\n",
        "            # Get new state and reward from environment\n",
        "            new_state, reward, done, _ = frozone_lake_env.step(action)\n",
        "            # print_utils.clear_screen()\n",
        "            # frozone_lake_env.render()\n",
        "            time.sleep(.1)\n",
        "\n",
        "            episode_reward += reward\n",
        "            state = new_state\n",
        "\n",
        "            if done:\n",
        "                print(\"Episode Reward: {}\".format(episode_reward))\n",
        "            #     print_utils.print_result(episode_reward)\n",
        "\n",
        "        rewards.append(episode_reward)\n",
        "\n",
        "    print(\"Score over time: \" + str(sum(rewards) / N_EPISODES))\n",
        "    print(\"Final Q-Table Values\")\n",
        "    print(\"LEFT DOWN RIGHT UP\")\n",
        "    print(Q)\n",
        "    plt.bar(range(len(rewards)), rewards, color=\"blue\")\n",
        "    plt.show()\n",
        "\n",
        "    frozone_lake_env.close()"
      ],
      "id": "c8fGleUzb1iZ",
      "execution_count": 44,
      "outputs": []
    },
    {
      "cell_type": "code",
      "metadata": {
        "id": "ezrPV6Ebb6EM",
        "outputId": "2f574d07-b019-4245-a12f-b902f9964b29",
        "colab": {
          "base_uri": "https://localhost:8080/",
          "height": 768
        }
      },
      "source": [
        "if __name__ == '__main__':\n",
        "    main()"
      ],
      "id": "ezrPV6Ebb6EM",
      "execution_count": 45,
      "outputs": [
        {
          "output_type": "stream",
          "text": [
            "Episode Reward: 1.0\n",
            "Episode Reward: 1.0\n",
            "Episode Reward: 0.0\n",
            "Episode Reward: 0.0\n",
            "Episode Reward: 0.0\n",
            "Episode Reward: 0.0\n",
            "Episode Reward: 1.0\n",
            "Episode Reward: 1.0\n",
            "Episode Reward: 1.0\n",
            "Episode Reward: 1.0\n",
            "Score over time: 0.362\n",
            "Final Q-Table Values\n",
            "LEFT DOWN RIGHT UP\n",
            "[[ 0.28183696 -0.63862052 -0.62344774 -0.750921  ]\n",
            " [-0.93488612 -0.88478899 -0.90752059  0.45812669]\n",
            " [-0.74581744 -0.73145345 -0.784186    0.2917105 ]\n",
            " [-0.875      -0.875      -0.75        0.18948913]\n",
            " [ 0.28256399 -0.875      -0.82500583 -0.86264925]\n",
            " [ 0.          0.          0.          0.        ]\n",
            " [ 0.0230643  -0.99710367 -1.21642675 -0.99899427]\n",
            " [ 0.          0.          0.          0.        ]\n",
            " [-0.85327908 -0.78622709 -0.74605293  0.30341455]\n",
            " [-0.75        0.33741561 -0.72800864 -0.69281659]\n",
            " [ 0.66009233 -0.89230607 -0.91738268 -0.88048736]\n",
            " [ 0.          0.          0.          0.        ]\n",
            " [ 0.          0.          0.          0.        ]\n",
            " [-0.5        -0.59821885  0.83672817 -0.5       ]\n",
            " [-0.2018116   0.99389214 -0.29731572 -0.26891681]\n",
            " [ 0.          0.          0.          0.        ]]\n"
          ],
          "name": "stdout"
        },
        {
          "output_type": "display_data",
          "data": {
            "image/png": "[encoded data removed]",
            "text/plain": [
              "<Figure size 432x288 with 1 Axes>"
            ]
          },
          "metadata": {
            "tags": [],
            "needs_background": "light"
          }
        }
      ]
    },
    {
      "cell_type": "code",
      "metadata": {
        "id": "lK88yRsFlH6M"
      },
      "source": [
        ""
      ],
      "id": "lK88yRsFlH6M",
      "execution_count": null,
      "outputs": []
    }
  ]
}