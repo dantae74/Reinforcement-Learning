{
  "nbformat": 4,
  "nbformat_minor": 5,
  "metadata": {
    "colab": {
      "name": "02-00-random-frozenkake-det.ipynb",
      "provenance": [],
      "include_colab_link": true
    },
    "language_info": {
      "name": "python"
    },
    "kernelspec": {
      "name": "python3",
      "display_name": "Python 3"
    }
  },
  "cells": [
    {
      "cell_type": "markdown",
      "metadata": {
        "id": "view-in-github",
        "colab_type": "text"
      },
      "source": [
        "<a href=\"https://colab.research.google.com/github/dantae74/Reinforcement-Learning/blob/main/02-00-random-frozenkake-det.ipynb\" target=\"_parent\"><img src=\"https://colab.research.google.com/assets/colab-badge.svg\" alt=\"Open In Colab\"/></a>"
      ]
    },
    {
      "cell_type": "markdown",
      "metadata": {
        "id": "WfgQSbgOoe-2"
      },
      "source": [
        "모두를 위한 머신러닝에서 가져왔습니다.\n",
        "# Random frozen lake determination"
      ],
      "id": "WfgQSbgOoe-2"
    },
    {
      "cell_type": "code",
      "metadata": {
        "id": "RK3QTbWDofS7"
      },
      "source": [
        "import gym\n",
        "import random\n",
        "from gym.envs.registration import register\n",
        "import matplotlib.pyplot as plt"
      ],
      "id": "RK3QTbWDofS7",
      "execution_count": 1,
      "outputs": []
    },
    {
      "cell_type": "code",
      "metadata": {
        "id": "30dxHmEPog-b"
      },
      "source": [
        "register(\n",
        "    id='FrozenLake-v3',\n",
        "    entry_point='gym.envs.toy_text:FrozenLakeEnv',\n",
        "    kwargs={'map_name': '4x4',\n",
        "            'is_slippery': False}\n",
        ")"
      ],
      "id": "30dxHmEPog-b",
      "execution_count": 2,
      "outputs": []
    },
    {
      "cell_type": "code",
      "metadata": {
        "id": "9O0OWCEZjkS3",
        "outputId": "9e376dce-0824-44d4-e409-0ddfb057d221",
        "colab": {
          "base_uri": "https://localhost:8080/"
        }
      },
      "source": [
        "env = gym.make('FrozenLake-v0')\n",
        "env.render()"
      ],
      "id": "9O0OWCEZjkS3",
      "execution_count": 3,
      "outputs": [
        {
          "output_type": "stream",
          "text": [
            "\n",
            "\u001b[41mS\u001b[0mFFF\n",
            "FHFH\n",
            "FFFH\n",
            "HFFG\n"
          ],
          "name": "stdout"
        }
      ]
    },
    {
      "cell_type": "code",
      "metadata": {
        "id": "W96pkvsNjp1l"
      },
      "source": [
        "num_episodes = 2000"
      ],
      "id": "W96pkvsNjp1l",
      "execution_count": 5,
      "outputs": []
    },
    {
      "cell_type": "code",
      "metadata": {
        "id": "IuYXAqw0jvxg",
        "outputId": "af828a67-930e-43a9-fa1b-7cbe8251ab1c",
        "colab": {
          "base_uri": "https://localhost:8080/",
          "height": 283
        }
      },
      "source": [
        "rList = []\n",
        "for i in range(num_episodes):\n",
        "    # Reset environment and get first new observation\n",
        "    env.reset()\n",
        "    rAll = 0\n",
        "    done = False\n",
        "\n",
        "    while not done:\n",
        "        # Random action\n",
        "        action = random.randint(0, env.action_space.n - 1)\n",
        "\n",
        "        # Get new state and reward from environment\n",
        "        _state, reward, done, _info = env.step(action)\n",
        "\n",
        "        # rAll will be 1 if success, o otherwise\n",
        "        rAll += reward\n",
        "\n",
        "    rList.append(rAll)\n",
        "\n",
        "print(\"Success rate: \" + str(sum(rList) / num_episodes))\n",
        "plt.plot(rList)\n",
        "plt.show()"
      ],
      "id": "IuYXAqw0jvxg",
      "execution_count": 6,
      "outputs": [
        {
          "output_type": "stream",
          "text": [
            "Success rate: 0.011\n"
          ],
          "name": "stdout"
        },
        {
          "output_type": "display_data",
          "data": {
            "image/png": "[encoded data removed]",
            "text/plain": [
              "<Figure size 432x288 with 1 Axes>"
            ]
          },
          "metadata": {
            "tags": [],
            "needs_background": "light"
          }
        }
      ]
    },
    {
      "cell_type": "code",
      "metadata": {
        "id": "nX5CYtnSkG2J"
      },
      "source": [
        ""
      ],
      "id": "nX5CYtnSkG2J",
      "execution_count": null,
      "outputs": []
    }
  ]
}
