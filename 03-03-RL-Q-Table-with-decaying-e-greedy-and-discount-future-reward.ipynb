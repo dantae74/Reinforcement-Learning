{
  "nbformat": 4,
  "nbformat_minor": 5,
  "metadata": {
    "colab": {
      "name": "Untitled.ipynb",
      "provenance": [],
      "include_colab_link": true
    },
    "language_info": {
      "name": "python"
    },
    "kernelspec": {
      "name": "python3",
      "display_name": "Python 3"
    }
  },
  "cells": [
    {
      "cell_type": "markdown",
      "metadata": {
        "id": "view-in-github",
        "colab_type": "text"
      },
      "source": [
        "<a href=\"https://colab.research.google.com/github/dantae74/Reinforcement-Learning/blob/main/03-03-RL-Q-Table-with-decaying-e-greedy-and-discount-future-reward.ipynb\" target=\"_parent\"><img src=\"https://colab.research.google.com/assets/colab-badge.svg\" alt=\"Open In Colab\"/></a>"
      ]
    },
    {
      "cell_type": "markdown",
      "metadata": {
        "id": "WfgQSbgOoe-2"
      },
      "source": [
        "모두를 위한 머신러닝에서 가져왔습니다."
      ],
      "id": "WfgQSbgOoe-2"
    },
    {
      "cell_type": "code",
      "metadata": {
        "id": "RK3QTbWDofS7"
      },
      "source": [
        "import gym\n",
        "import numpy as np\n",
        "import matplotlib.pyplot as plt\n",
        "from gym.envs.registration import register\n",
        "import random as pr"
      ],
      "id": "RK3QTbWDofS7",
      "execution_count": null,
      "outputs": []
    },
    {
      "cell_type": "code",
      "metadata": {
        "id": "Yve0NdJK4ZiL"
      },
      "source": [
        "register(\n",
        "    id='FrozenLake-v3',\n",
        "    entry_point='gym.envs.toy_text:FrozenLakeEnv',\n",
        "    kwargs={'map_name': '4x4',\n",
        "            'is_slippery': False}\n",
        ")\n",
        "env = gym.make('FrozenLake-v3')"
      ],
      "id": "Yve0NdJK4ZiL",
      "execution_count": null,
      "outputs": []
    },
    {
      "cell_type": "code",
      "metadata": {
        "id": "jsp1N0ls4fVy"
      },
      "source": [
        "# Initialize table with all zeros\n",
        "Q = np.zeros([env.observation_space.n, env.action_space.n])\n",
        "# Set learning parameters\n",
        "dis = .99\n",
        "num_episodes = 2000"
      ],
      "id": "jsp1N0ls4fVy",
      "execution_count": null,
      "outputs": []
    },
    {
      "cell_type": "code",
      "metadata": {
        "id": "30dxHmEPog-b"
      },
      "source": [
        "# create lists to contain total rewards and steps per episode\n",
        "rList = []\n",
        "for i in range(num_episodes):\n",
        "    # Reset environment and get first new observation\n",
        "    state = env.reset()\n",
        "    rAll = 0\n",
        "    done = False\n",
        "\n",
        "    e = 1. / ((i // 100) + 1)  # Python2&3\n",
        "\n",
        "    # The Q-Table learning algorithm\n",
        "    while not done:\n",
        "        # Choose an action by e greedy\n",
        "        if np.random.rand(1) < e:\n",
        "            action = env.action_space.sample()\n",
        "        else:\n",
        "            action = np.argmax(Q[state, :])\n",
        "\n",
        "        # Get new state and reward from environment\n",
        "        new_state, reward, done, _ = env.step(action)\n",
        "\n",
        "        # Update Q-Table with new knowledge using learning rate\n",
        "        Q[state, action] = reward + dis * np.max(Q[new_state, :])\n",
        "\n",
        "        rAll += reward\n",
        "        state = new_state\n",
        "\n",
        "    rList.append(rAll)\n",
        "\n",
        "print(\"Success rate: \" + str(sum(rList) / num_episodes))\n",
        "print(\"Final Q-Table Values\")\n",
        "print(Q)\n",
        "plt.bar(range(len(rList)), rList, color=\"blue\")\n",
        "plt.show()"
      ],
      "id": "30dxHmEPog-b",
      "execution_count": null,
      "outputs": []
    }
  ]
}