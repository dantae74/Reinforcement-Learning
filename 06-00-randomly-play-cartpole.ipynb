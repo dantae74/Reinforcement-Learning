{
  "nbformat": 4,
  "nbformat_minor": 5,
  "metadata": {
    "colab": {
      "name": "06-00-randomly-play-cartpole.ipynb",
      "provenance": [],
      "include_colab_link": true
    },
    "language_info": {
      "name": "python"
    },
    "kernelspec": {
      "name": "python3",
      "display_name": "Python 3"
    }
  },
  "cells": [
    {
      "cell_type": "markdown",
      "metadata": {
        "id": "view-in-github",
        "colab_type": "text"
      },
      "source": [
        "<a href=\"https://colab.research.google.com/github/dantae74/Reinforcement-Learning/blob/main/06-00-randomly-play-cartpole.ipynb\" target=\"_parent\"><img src=\"https://colab.research.google.com/assets/colab-badge.svg\" alt=\"Open In Colab\"/></a>"
      ]
    },
    {
      "cell_type": "markdown",
      "metadata": {
        "id": "WfgQSbgOoe-2"
      },
      "source": [
        "모두를 위한 머신러닝에서 가져왔습니다."
      ],
      "id": "WfgQSbgOoe-2"
    },
    {
      "cell_type": "code",
      "metadata": {
        "id": "RK3QTbWDofS7"
      },
      "source": [
        "import gym\n",
        "import random"
      ],
      "id": "RK3QTbWDofS7",
      "execution_count": 1,
      "outputs": []
    },
    {
      "cell_type": "code",
      "metadata": {
        "id": "30dxHmEPog-b"
      },
      "source": [
        "env = gym.make(\"CartPole-v1\")"
      ],
      "id": "30dxHmEPog-b",
      "execution_count": null,
      "outputs": []
    },
    {
      "cell_type": "code",
      "metadata": {
        "id": "dAtVtosCkx-O"
      },
      "source": [
        "def Random_games():\n",
        "    # Each of this episode is its own game.\n",
        "    for episode in range(10):\n",
        "        env.reset()\n",
        "        # this is each frame, up to 500...but we wont make it that far with random.\n",
        "        for t in range(500):\n",
        "            # This will display the environment\n",
        "            # Only display if you really want to see it.\n",
        "            # Takes much longer to display it.\n",
        "            env.render()\n",
        "            \n",
        "            # This will just create a sample action in any environment.\n",
        "            # In this environment, the action can be 0 or 1, which is left or right\n",
        "            action = env.action_space.sample()\n",
        "\n",
        "            # this executes the environment with an action, \n",
        "            # and returns the observation of the environment, \n",
        "            # the reward, if the env is over, and other info.\n",
        "            next_state, reward, done, info = env.step(action)\n",
        "            \n",
        "            # lets print everything in one line:\n",
        "            print(t, next_state, reward, done, info, action)\n",
        "            if done:\n",
        "                break\n",
        "                \n",
        "Random_games()"
      ],
      "id": "dAtVtosCkx-O",
      "execution_count": null,
      "outputs": []
    }
  ]
}
